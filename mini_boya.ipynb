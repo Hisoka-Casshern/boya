{
  "nbformat": 4,
  "nbformat_minor": 0,
  "metadata": {
    "colab": {
      "name": "Untitled7.ipynb",
      "provenance": [],
      "collapsed_sections": [],
      "authorship_tag": "ABX9TyP70avRVt3GUAteekAx50c4",
      "include_colab_link": true
    },
    "kernelspec": {
      "name": "python3",
      "display_name": "Python 3"
    },
    "accelerator": "GPU"
  },
  "cells": [
    {
      "cell_type": "markdown",
      "metadata": {
        "id": "view-in-github",
        "colab_type": "text"
      },
      "source": [
        "<a href=\"https://colab.research.google.com/github/Hisoka-Casshern/boya/blob/main/mini_boya.ipynb\" target=\"_parent\"><img src=\"https://colab.research.google.com/assets/colab-badge.svg\" alt=\"Open In Colab\"/></a>"
      ]
    },
    {
      "cell_type": "code",
      "metadata": {
        "id": "fYBBcQJcZ-5k"
      },
      "source": [
        "import jax.numpy as jnp\r\n",
        "from jax import grad, vmap,jit\r\n",
        "from jax import random\r\n",
        "import sys"
      ],
      "execution_count": 136,
      "outputs": []
    },
    {
      "cell_type": "code",
      "metadata": {
        "id": "4jMT1qEuaN_J"
      },
      "source": [
        "key=random.PRNGKey(32)"
      ],
      "execution_count": 137,
      "outputs": []
    },
    {
      "cell_type": "code",
      "metadata": {
        "id": "KdqN8usZESDU"
      },
      "source": [
        "#aktivacija\r\n",
        "def Elu(array):\r\n",
        "  new_array=[]\r\n",
        "  for i in range(array.shape[0]):\r\n",
        "    if array[i]<=0:\r\n",
        "      new_array.append(1.0*jnp.exp(array[i])-1.)\r\n",
        "    else:\r\n",
        "      new_array.append(array[i])\r\n",
        "  return jnp.array(new_array)"
      ],
      "execution_count": 138,
      "outputs": []
    },
    {
      "cell_type": "code",
      "metadata": {
        "id": "cwZdI6ZUEl-i"
      },
      "source": [
        "#output vjerojatnosti da je label true:\r\n",
        "def Prediktor(w,b,input):\r\n",
        "  return Elu(jnp.dot(input,w)+b)"
      ],
      "execution_count": 139,
      "outputs": []
    },
    {
      "cell_type": "code",
      "metadata": {
        "id": "eQE6phnkE9yX"
      },
      "source": [
        "#loss\r\n",
        "def Loss(w,b,input,target):\r\n",
        "  predikcija=Prediktor(w,b,input)\r\n",
        "  vjerojatnost_labela=(predikcija-target)**2\r\n",
        "  return jnp.sum(vjerojatnost_labela)"
      ],
      "execution_count": 140,
      "outputs": []
    },
    {
      "cell_type": "code",
      "metadata": {
        "id": "s7iVOQaUPguv"
      },
      "source": [
        "def mini_gradient_decent_boy(w,b,w_grad,b_grad):\r\n",
        "  learn_rate=0.01\r\n",
        "  w=w-w_grad*learn_rate\r\n",
        "  b=b-b_grad*learn_rate\r\n",
        "  return w,b"
      ],
      "execution_count": 141,
      "outputs": []
    },
    {
      "cell_type": "code",
      "metadata": {
        "id": "F57GEkdWFiVx"
      },
      "source": [
        "#Data\r\n",
        "input=jnp.array([[0.52,1.12,0.77],\r\n",
        "                [0.88,-1.08,0.15],\r\n",
        "                [0.52,0.06,-1.3],\r\n",
        "                [0.74,-2.49,1.39]])\r\n",
        "target=jnp.array([True,True,False,True])"
      ],
      "execution_count": 147,
      "outputs": []
    },
    {
      "cell_type": "code",
      "metadata": {
        "colab": {
          "base_uri": "https://localhost:8080/"
        },
        "id": "B_IlWP9TGbgk",
        "outputId": "1ff3ead6-a1d7-4c5d-d31f-49dd19627827"
      },
      "source": [
        "#incijalizacija random varijabli\r\n",
        "key,w_key,b_key=random.split(key,3)\r\n",
        "w=random.normal(w_key,(3,))\r\n",
        "b=random.normal(b_key,())\r\n",
        "print(w)\r\n",
        "print(\"\")\r\n",
        "print(b)"
      ],
      "execution_count": 148,
      "outputs": [
        {
          "output_type": "stream",
          "text": [
            "[-0.3320222 -0.8228759  0.6366623]\n",
            "\n",
            "0.6705064\n"
          ],
          "name": "stdout"
        }
      ]
    },
    {
      "cell_type": "code",
      "metadata": {
        "colab": {
          "base_uri": "https://localhost:8080/"
        },
        "id": "IKGKk5y4OE22",
        "outputId": "d30f24a4-d8bd-452f-dac2-0252dd2e36af"
      },
      "source": [
        "#Pokrecanje baby modela ucenja\r\n",
        "broj_epoha=1000\r\n",
        "while broj_epoha>0:\r\n",
        "  if(broj_epoha%10==0):\r\n",
        "    formatted_Loss = \"{:.2f}\".format(Loss(w,b,input,target))\r\n",
        "    formatted_Acc= \"{:.2f}\".format((1./jnp.exp(Loss(w,b,input,target)))*100)\r\n",
        "    print(f\"Loss: {formatted_Loss}   Accuracy: {formatted_Acc}% \")\r\n",
        "  w_grad,b_grad=grad(Loss,(0,1))(w,b,input,target)\r\n",
        "  w,b = mini_gradient_decent_boy(w,b,w_grad,b_grad)\r\n",
        "  broj_epoha-=1"
      ],
      "execution_count": 149,
      "outputs": [
        {
          "output_type": "stream",
          "text": [
            "Loss: 6.67   Accuracy: 0.13% \n",
            "Loss: 0.50   Accuracy: 60.45% \n",
            "Loss: 0.25   Accuracy: 78.19% \n",
            "Loss: 0.19   Accuracy: 82.42% \n",
            "Loss: 0.18   Accuracy: 83.53% \n",
            "Loss: 0.18   Accuracy: 83.94% \n",
            "Loss: 0.17   Accuracy: 84.19% \n",
            "Loss: 0.17   Accuracy: 84.39% \n",
            "Loss: 0.17   Accuracy: 84.58% \n",
            "Loss: 0.17   Accuracy: 84.76% \n",
            "Loss: 0.16   Accuracy: 84.94% \n",
            "Loss: 0.16   Accuracy: 85.12% \n",
            "Loss: 0.16   Accuracy: 85.30% \n",
            "Loss: 0.16   Accuracy: 85.48% \n",
            "Loss: 0.15   Accuracy: 85.65% \n",
            "Loss: 0.15   Accuracy: 85.82% \n",
            "Loss: 0.15   Accuracy: 85.99% \n",
            "Loss: 0.15   Accuracy: 86.16% \n",
            "Loss: 0.15   Accuracy: 86.33% \n",
            "Loss: 0.15   Accuracy: 86.49% \n",
            "Loss: 0.14   Accuracy: 86.66% \n",
            "Loss: 0.14   Accuracy: 86.82% \n",
            "Loss: 0.14   Accuracy: 86.98% \n",
            "Loss: 0.14   Accuracy: 87.13% \n",
            "Loss: 0.14   Accuracy: 87.29% \n",
            "Loss: 0.13   Accuracy: 87.44% \n",
            "Loss: 0.13   Accuracy: 87.59% \n",
            "Loss: 0.13   Accuracy: 87.74% \n",
            "Loss: 0.13   Accuracy: 87.89% \n",
            "Loss: 0.13   Accuracy: 88.04% \n",
            "Loss: 0.13   Accuracy: 88.19% \n",
            "Loss: 0.12   Accuracy: 88.33% \n",
            "Loss: 0.12   Accuracy: 88.47% \n",
            "Loss: 0.12   Accuracy: 88.61% \n",
            "Loss: 0.12   Accuracy: 88.75% \n",
            "Loss: 0.12   Accuracy: 88.89% \n",
            "Loss: 0.12   Accuracy: 89.02% \n",
            "Loss: 0.11   Accuracy: 89.16% \n",
            "Loss: 0.11   Accuracy: 89.29% \n",
            "Loss: 0.11   Accuracy: 89.42% \n",
            "Loss: 0.11   Accuracy: 89.55% \n",
            "Loss: 0.11   Accuracy: 89.68% \n",
            "Loss: 0.11   Accuracy: 89.81% \n",
            "Loss: 0.11   Accuracy: 89.93% \n",
            "Loss: 0.10   Accuracy: 90.06% \n",
            "Loss: 0.10   Accuracy: 90.18% \n",
            "Loss: 0.10   Accuracy: 90.30% \n",
            "Loss: 0.10   Accuracy: 90.42% \n",
            "Loss: 0.10   Accuracy: 90.54% \n",
            "Loss: 0.10   Accuracy: 90.65% \n",
            "Loss: 0.10   Accuracy: 90.77% \n",
            "Loss: 0.10   Accuracy: 90.88% \n",
            "Loss: 0.09   Accuracy: 90.99% \n",
            "Loss: 0.09   Accuracy: 91.11% \n",
            "Loss: 0.09   Accuracy: 91.22% \n",
            "Loss: 0.09   Accuracy: 91.32% \n",
            "Loss: 0.09   Accuracy: 91.43% \n",
            "Loss: 0.09   Accuracy: 91.54% \n",
            "Loss: 0.09   Accuracy: 91.64% \n",
            "Loss: 0.09   Accuracy: 91.75% \n",
            "Loss: 0.09   Accuracy: 91.85% \n",
            "Loss: 0.08   Accuracy: 91.95% \n",
            "Loss: 0.08   Accuracy: 92.05% \n",
            "Loss: 0.08   Accuracy: 92.15% \n",
            "Loss: 0.08   Accuracy: 92.25% \n",
            "Loss: 0.08   Accuracy: 92.34% \n",
            "Loss: 0.08   Accuracy: 92.44% \n",
            "Loss: 0.08   Accuracy: 92.53% \n",
            "Loss: 0.08   Accuracy: 92.63% \n",
            "Loss: 0.08   Accuracy: 92.72% \n",
            "Loss: 0.07   Accuracy: 92.81% \n",
            "Loss: 0.07   Accuracy: 92.90% \n",
            "Loss: 0.07   Accuracy: 92.99% \n",
            "Loss: 0.07   Accuracy: 93.07% \n",
            "Loss: 0.07   Accuracy: 93.16% \n",
            "Loss: 0.07   Accuracy: 93.25% \n",
            "Loss: 0.07   Accuracy: 93.33% \n",
            "Loss: 0.07   Accuracy: 93.41% \n",
            "Loss: 0.07   Accuracy: 93.50% \n",
            "Loss: 0.07   Accuracy: 93.58% \n",
            "Loss: 0.07   Accuracy: 93.66% \n",
            "Loss: 0.06   Accuracy: 93.74% \n",
            "Loss: 0.06   Accuracy: 93.82% \n",
            "Loss: 0.06   Accuracy: 93.89% \n",
            "Loss: 0.06   Accuracy: 93.97% \n",
            "Loss: 0.06   Accuracy: 94.05% \n",
            "Loss: 0.06   Accuracy: 94.12% \n",
            "Loss: 0.06   Accuracy: 94.20% \n",
            "Loss: 0.06   Accuracy: 94.27% \n",
            "Loss: 0.06   Accuracy: 94.34% \n",
            "Loss: 0.06   Accuracy: 94.41% \n",
            "Loss: 0.06   Accuracy: 94.48% \n",
            "Loss: 0.06   Accuracy: 94.55% \n",
            "Loss: 0.06   Accuracy: 94.62% \n",
            "Loss: 0.05   Accuracy: 94.69% \n",
            "Loss: 0.05   Accuracy: 94.76% \n",
            "Loss: 0.05   Accuracy: 94.82% \n",
            "Loss: 0.05   Accuracy: 94.89% \n",
            "Loss: 0.05   Accuracy: 94.95% \n",
            "Loss: 0.05   Accuracy: 95.01% \n"
          ],
          "name": "stdout"
        }
      ]
    },
    {
      "cell_type": "code",
      "metadata": {
        "colab": {
          "base_uri": "https://localhost:8080/"
        },
        "id": "FNnbtVWZa5bL",
        "outputId": "5f18493e-0671-4185-b358-5902193640d9"
      },
      "source": [
        "print(w)"
      ],
      "execution_count": 150,
      "outputs": [
        {
          "output_type": "stream",
          "text": [
            "[0.6858048  0.09148872 0.4031625 ]\n"
          ],
          "name": "stdout"
        }
      ]
    },
    {
      "cell_type": "code",
      "metadata": {
        "colab": {
          "base_uri": "https://localhost:8080/"
        },
        "id": "-g36086qcXWA",
        "outputId": "99ef82b9-87f5-40e3-c7f6-deb3f95afec6"
      },
      "source": [
        "print(b)"
      ],
      "execution_count": 151,
      "outputs": [
        {
          "output_type": "stream",
          "text": [
            "0.25214428\n"
          ],
          "name": "stdout"
        }
      ]
    },
    {
      "cell_type": "code",
      "metadata": {
        "colab": {
          "base_uri": "https://localhost:8080/"
        },
        "id": "fHZ_nJfMcY_8",
        "outputId": "d1d167af-bd1c-4bac-968b-4dbc0b681222"
      },
      "source": [
        "print(Prediktor(w,b,input))"
      ],
      "execution_count": 152,
      "outputs": [
        {
          "output_type": "stream",
          "text": [
            "[1.0216652  0.8173191  0.09014079 1.0922288 ]\n"
          ],
          "name": "stdout"
        }
      ]
    }
  ]
}