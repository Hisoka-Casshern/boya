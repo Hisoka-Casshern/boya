{
  "nbformat": 4,
  "nbformat_minor": 0,
  "metadata": {
    "colab": {
      "name": "Untitled7.ipynb",
      "provenance": [],
      "collapsed_sections": [],
      "authorship_tag": "ABX9TyPmWt2wRXnXcO+z1/eJhY8D",
      "include_colab_link": true
    },
    "kernelspec": {
      "name": "python3",
      "display_name": "Python 3"
    },
    "accelerator": "GPU"
  },
  "cells": [
    {
      "cell_type": "markdown",
      "metadata": {
        "id": "view-in-github",
        "colab_type": "text"
      },
      "source": [
        "<a href=\"https://colab.research.google.com/github/Hisoka-Casshern/boya/blob/main/zip_play.ipynb\" target=\"_parent\"><img src=\"https://colab.research.google.com/assets/colab-badge.svg\" alt=\"Open In Colab\"/></a>"
      ]
    },
    {
      "cell_type": "markdown",
      "metadata": {
        "id": "2t_1Z9rCab3G"
      },
      "source": [
        "zip igranje"
      ]
    },
    {
      "cell_type": "code",
      "metadata": {
        "id": "EhGjohbjN1sq"
      },
      "source": [
        "def jolo(*arg):\r\n",
        "  list_sum=[]\r\n",
        "  for num in zip(*arg):\r\n",
        "    list_sum.append(sum(num))\r\n",
        "  return list_sum"
      ],
      "execution_count": 164,
      "outputs": []
    },
    {
      "cell_type": "markdown",
      "metadata": {
        "id": "yPq7-VEMaXRm"
      },
      "source": [
        "ovde su rulje arraya izmisljene"
      ]
    },
    {
      "cell_type": "code",
      "metadata": {
        "id": "BKGOoqWVNp8x"
      },
      "source": [
        "a=[1,2,3]\r\n",
        "b=[4,5,6]\r\n",
        "c=[7,8,9]\r\n",
        "d=[10,11,12]"
      ],
      "execution_count": 149,
      "outputs": []
    },
    {
      "cell_type": "markdown",
      "metadata": {
        "id": "MHJHCEcxaSUp"
      },
      "source": [
        "primjer za vise inputa je tu"
      ]
    },
    {
      "cell_type": "code",
      "metadata": {
        "colab": {
          "base_uri": "https://localhost:8080/"
        },
        "id": "mKgfRv6pOlNm",
        "outputId": "a02c8634-781e-454c-9586-8c287ca5964a"
      },
      "source": [
        "jolo(a,b)"
      ],
      "execution_count": 165,
      "outputs": [
        {
          "output_type": "execute_result",
          "data": {
            "text/plain": [
              "[5, 7, 9]"
            ]
          },
          "metadata": {
            "tags": []
          },
          "execution_count": 165
        }
      ]
    },
    {
      "cell_type": "code",
      "metadata": {
        "colab": {
          "base_uri": "https://localhost:8080/"
        },
        "id": "HaKVw63QaIr0",
        "outputId": "5edbc322-c5aa-4acb-b5c2-6f6bbc406be4"
      },
      "source": [
        "jolo(a,b,c)"
      ],
      "execution_count": 166,
      "outputs": [
        {
          "output_type": "execute_result",
          "data": {
            "text/plain": [
              "[12, 15, 18]"
            ]
          },
          "metadata": {
            "tags": []
          },
          "execution_count": 166
        }
      ]
    },
    {
      "cell_type": "code",
      "metadata": {
        "colab": {
          "base_uri": "https://localhost:8080/"
        },
        "id": "aIvC753PaKyA",
        "outputId": "ffcfe187-89a3-4bdd-be59-2edc59df77bc"
      },
      "source": [
        "jolo(a,b,c,d)"
      ],
      "execution_count": 167,
      "outputs": [
        {
          "output_type": "execute_result",
          "data": {
            "text/plain": [
              "[22, 26, 30]"
            ]
          },
          "metadata": {
            "tags": []
          },
          "execution_count": 167
        }
      ]
    }
  ]
}