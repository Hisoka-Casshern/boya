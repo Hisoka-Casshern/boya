{
  "nbformat": 4,
  "nbformat_minor": 0,
  "metadata": {
    "colab": {
      "name": "Untitled7.ipynb",
      "provenance": [],
      "collapsed_sections": [],
      "authorship_tag": "ABX9TyPmWt2wRXnXcO+z1/eJhY8D",
      "include_colab_link": true
    },
    "kernelspec": {
      "name": "python3",
      "display_name": "Python 3"
    },
    "accelerator": "GPU"
  },
  "cells": [
    {
      "cell_type": "markdown",
      "metadata": {
        "id": "view-in-github",
        "colab_type": "text"
      },
      "source": [
        "<a href=\"https://colab.research.google.com/github/Hisoka-Casshern/boya/blob/main/zip_play.ipynb\" target=\"_parent\"><img src=\"https://colab.research.google.com/assets/colab-badge.svg\" alt=\"Open In Colab\"/></a>"
      ]
    },
    {
      "cell_type": "markdown",
      "metadata": {
        "id": "2t_1Z9rCab3G"
      },
      "source": [
        "zip igranje"
      ]
    },
    {
      "cell_type": "code",
      "metadata": {
        "id": "EhGjohbjN1sq"
      },
      "source": [
        "def jolo(*arg):\r\n",
        "  list_sum=[]\r\n",
        "  for num in zip(*arg):\r\n",
        "    list_sum.append(sum(num))\r\n",
        "  return list_sum"
      ],
      "execution_count": 6,
      "outputs": []
    },
    {
      "cell_type": "markdown",
      "metadata": {
        "id": "yPq7-VEMaXRm"
      },
      "source": [
        "ovde su rulje arraya izmisljene"
      ]
    },
    {
      "cell_type": "code",
      "metadata": {
        "id": "BKGOoqWVNp8x"
      },
      "source": [
        "a=[1,2,3]\r\n",
        "b=[4,5,6]\r\n",
        "c=[7,8,9]\r\n",
        "d=[10,11,12]"
      ],
      "execution_count": 7,
      "outputs": []
    },
    {
      "cell_type": "markdown",
      "metadata": {
        "id": "MHJHCEcxaSUp"
      },
      "source": [
        "primjer za vise inputa je tu"
      ]
    },
    {
      "cell_type": "code",
      "metadata": {
        "colab": {
          "base_uri": "https://localhost:8080/"
        },
        "id": "mKgfRv6pOlNm",
        "outputId": "05c8cdef-2150-4d95-8cdd-14df3259aaf4"
      },
      "source": [
        "jolo(a,b)"
      ],
      "execution_count": 8,
      "outputs": [
        {
          "output_type": "execute_result",
          "data": {
            "text/plain": [
              "[5, 7, 9]"
            ]
          },
          "metadata": {
            "tags": []
          },
          "execution_count": 8
        }
      ]
    },
    {
      "cell_type": "code",
      "metadata": {
        "colab": {
          "base_uri": "https://localhost:8080/"
        },
        "id": "HaKVw63QaIr0",
        "outputId": "17aac1cc-7774-4410-aaf6-2d8298d53d04"
      },
      "source": [
        "jolo(a,b,c)"
      ],
      "execution_count": 9,
      "outputs": [
        {
          "output_type": "execute_result",
          "data": {
            "text/plain": [
              "[12, 15, 18]"
            ]
          },
          "metadata": {
            "tags": []
          },
          "execution_count": 9
        }
      ]
    },
    {
      "cell_type": "code",
      "metadata": {
        "colab": {
          "base_uri": "https://localhost:8080/"
        },
        "id": "aIvC753PaKyA",
        "outputId": "fabef084-4662-4adb-8402-d4da0be29114"
      },
      "source": [
        "jolo(a,b,c,d)"
      ],
      "execution_count": 10,
      "outputs": [
        {
          "output_type": "execute_result",
          "data": {
            "text/plain": [
              "[22, 26, 30]"
            ]
          },
          "metadata": {
            "tags": []
          },
          "execution_count": 10
        }
      ]
    }
  ]
}