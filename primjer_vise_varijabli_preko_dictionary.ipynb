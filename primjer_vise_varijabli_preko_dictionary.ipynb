{
  "nbformat": 4,
  "nbformat_minor": 0,
  "metadata": {
    "colab": {
      "name": "Untitled9.ipynb",
      "provenance": [],
      "authorship_tag": "ABX9TyNnobWGArehG4wovH0dCPr3",
      "include_colab_link": true
    },
    "kernelspec": {
      "name": "python3",
      "display_name": "Python 3"
    },
    "language_info": {
      "name": "python"
    }
  },
  "cells": [
    {
      "cell_type": "markdown",
      "metadata": {
        "id": "view-in-github",
        "colab_type": "text"
      },
      "source": [
        "<a href=\"https://colab.research.google.com/github/Hisoka-Casshern/boya/blob/main/primjer_vise_varijabli_preko_dictionary.ipynb\" target=\"_parent\"><img src=\"https://colab.research.google.com/assets/colab-badge.svg\" alt=\"Open In Colab\"/></a>"
      ]
    },
    {
      "cell_type": "code",
      "metadata": {
        "colab": {
          "base_uri": "https://localhost:8080/"
        },
        "id": "A7hsA9hS2eoD",
        "outputId": "7b5eb2cd-76b2-4abb-b936-2183e4af93f4"
      },
      "source": [
        "organizacija_layera=[5,3,3,2,1,2]\n",
        "layeri={}\n",
        "w_key,b_key=random.split(key,2)\n",
        "j=0\n",
        "for i in range(len(organizacija_layera)-1):\n",
        "    layeri['W'+str(j)]=random.normal(w_key,((organizacija_layera[i]),(organizacija_layera[i+1])))\n",
        "    layeri['b'+str(j)]=random.normal(b_key,(organizacija_layera[i+1],))\n",
        "    j+=1\n",
        "for i in layeri:\n",
        "  print(f\"{i} :\\n\", layeri[i])   "
      ],
      "execution_count": null,
      "outputs": [
        {
          "output_type": "stream",
          "text": [
            "W0 :\n",
            " [[ 1.4048848   0.78991723 -0.7200317 ]\n",
            " [-0.3031722   1.3777137  -0.59312356]\n",
            " [-0.91740906  1.2042638  -0.48295823]\n",
            " [ 0.01227952 -0.6791347  -0.3909145 ]\n",
            " [-0.6492427  -1.675325    0.5088986 ]]\n",
            "b0 :\n",
            " [-0.23187488  0.6860154  -1.2697803 ]\n",
            "W1 :\n",
            " [[ 1.9236745   0.48248097  0.72482103]\n",
            " [ 0.24237114  0.24264164  2.232347  ]\n",
            " [ 0.7048535   0.66093826 -1.2454523 ]]\n",
            "b1 :\n",
            " [-0.23187488  0.6860154  -1.2697803 ]\n",
            "W2 :\n",
            " [[-0.60144615  0.40591335]\n",
            " [ 0.43197644  0.7155819 ]\n",
            " [-0.9004198  -0.3820834 ]]\n",
            "b2 :\n",
            " [0.6647566 1.2814255]\n",
            "W3 :\n",
            " [[0.15866444]\n",
            " [0.66787183]]\n",
            "b3 :\n",
            " [0.3790804]\n",
            "W4 :\n",
            " [[0.15866444 0.66787183]]\n",
            "b4 :\n",
            " [0.6647566 1.2814255]\n"
          ],
          "name": "stdout"
        }
      ]
    }
  ]
}